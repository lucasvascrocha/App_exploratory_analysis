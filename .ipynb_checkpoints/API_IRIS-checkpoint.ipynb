{
 "cells": [
  {
   "cell_type": "code",
   "execution_count": 17,
   "metadata": {},
   "outputs": [],
   "source": [
    "import pandas as pd\n",
    "import numpy as np\n",
    "import streamlit as st\n",
    "import seaborn as sns"
   ]
  },
  {
   "cell_type": "code",
   "execution_count": 30,
   "metadata": {},
   "outputs": [],
   "source": [
    "def main():\n",
    "    st.title('Análise de CSV')\n",
    "    file = st.file_uploader('Adicione seu csv', type='csv')\n",
    "    if file is not None:\n",
    "        slider = st.slider('Valores', 0, 100)\n",
    "        df = pd.read_csv(file)\n",
    "        st.markdown('Head')\n",
    "        st.dataframe(df.head(slider))\n",
    "        st.markdown('Table')\n",
    "        st.table(df.head(slider))\n",
    "    \n",
    "\n",
    "if __name__ == '__main__':\n",
    "    main()"
   ]
  },
  {
   "cell_type": "code",
   "execution_count": null,
   "metadata": {},
   "outputs": [],
   "source": []
  }
 ],
 "metadata": {
  "kernelspec": {
   "display_name": "aceleradev",
   "language": "python",
   "name": "aceleradev"
  },
  "language_info": {
   "codemirror_mode": {
    "name": "ipython",
    "version": 3
   },
   "file_extension": ".py",
   "mimetype": "text/x-python",
   "name": "python",
   "nbconvert_exporter": "python",
   "pygments_lexer": "ipython3",
   "version": "3.6.9"
  }
 },
 "nbformat": 4,
 "nbformat_minor": 4
}
